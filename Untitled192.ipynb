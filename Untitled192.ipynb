{
 "cells": [
  {
   "cell_type": "code",
   "execution_count": 1,
   "id": "89f21614",
   "metadata": {},
   "outputs": [],
   "source": [
    "import pandas as pd\n",
    "import numpy as np\n",
    "import matplotlib.pyplot as plt\n",
    "import seaborn as sns"
   ]
  },
  {
   "cell_type": "code",
   "execution_count": 2,
   "id": "f22780b2",
   "metadata": {},
   "outputs": [],
   "source": [
    "df = pd.read_csv(r\"C:\\Users\\sansk\\Downloads\\archive (17)\\fifa_eda.csv\")"
   ]
  },
  {
   "cell_type": "code",
   "execution_count": 3,
   "id": "6e230952",
   "metadata": {},
   "outputs": [
    {
     "data": {
      "text/html": [
       "<div>\n",
       "<style scoped>\n",
       "    .dataframe tbody tr th:only-of-type {\n",
       "        vertical-align: middle;\n",
       "    }\n",
       "\n",
       "    .dataframe tbody tr th {\n",
       "        vertical-align: top;\n",
       "    }\n",
       "\n",
       "    .dataframe thead th {\n",
       "        text-align: right;\n",
       "    }\n",
       "</style>\n",
       "<table border=\"1\" class=\"dataframe\">\n",
       "  <thead>\n",
       "    <tr style=\"text-align: right;\">\n",
       "      <th></th>\n",
       "      <th>ID</th>\n",
       "      <th>Name</th>\n",
       "      <th>Age</th>\n",
       "      <th>Nationality</th>\n",
       "      <th>Overall</th>\n",
       "      <th>Potential</th>\n",
       "      <th>Club</th>\n",
       "      <th>Value</th>\n",
       "      <th>Wage</th>\n",
       "      <th>Preferred Foot</th>\n",
       "      <th>International Reputation</th>\n",
       "      <th>Skill Moves</th>\n",
       "      <th>Position</th>\n",
       "      <th>Joined</th>\n",
       "      <th>Contract Valid Until</th>\n",
       "      <th>Height</th>\n",
       "      <th>Weight</th>\n",
       "      <th>Release Clause</th>\n",
       "    </tr>\n",
       "  </thead>\n",
       "  <tbody>\n",
       "    <tr>\n",
       "      <th>0</th>\n",
       "      <td>158023</td>\n",
       "      <td>L. Messi</td>\n",
       "      <td>31</td>\n",
       "      <td>Argentina</td>\n",
       "      <td>94</td>\n",
       "      <td>94</td>\n",
       "      <td>FC Barcelona</td>\n",
       "      <td>110500.0</td>\n",
       "      <td>565.0</td>\n",
       "      <td>Left</td>\n",
       "      <td>5.0</td>\n",
       "      <td>4.0</td>\n",
       "      <td>RF</td>\n",
       "      <td>2004</td>\n",
       "      <td>2021-01-01</td>\n",
       "      <td>5.583333</td>\n",
       "      <td>159.0</td>\n",
       "      <td>226500.0</td>\n",
       "    </tr>\n",
       "    <tr>\n",
       "      <th>1</th>\n",
       "      <td>20801</td>\n",
       "      <td>Cristiano Ronaldo</td>\n",
       "      <td>33</td>\n",
       "      <td>Portugal</td>\n",
       "      <td>94</td>\n",
       "      <td>94</td>\n",
       "      <td>Juventus</td>\n",
       "      <td>77000.0</td>\n",
       "      <td>405.0</td>\n",
       "      <td>Right</td>\n",
       "      <td>5.0</td>\n",
       "      <td>5.0</td>\n",
       "      <td>ST</td>\n",
       "      <td>2018</td>\n",
       "      <td>2022-01-01</td>\n",
       "      <td>6.166667</td>\n",
       "      <td>183.0</td>\n",
       "      <td>127100.0</td>\n",
       "    </tr>\n",
       "    <tr>\n",
       "      <th>2</th>\n",
       "      <td>190871</td>\n",
       "      <td>Neymar Jr</td>\n",
       "      <td>26</td>\n",
       "      <td>Brazil</td>\n",
       "      <td>92</td>\n",
       "      <td>93</td>\n",
       "      <td>Paris Saint-Germain</td>\n",
       "      <td>118500.0</td>\n",
       "      <td>290.0</td>\n",
       "      <td>Right</td>\n",
       "      <td>5.0</td>\n",
       "      <td>5.0</td>\n",
       "      <td>LW</td>\n",
       "      <td>2017</td>\n",
       "      <td>2022-01-01</td>\n",
       "      <td>5.750000</td>\n",
       "      <td>150.0</td>\n",
       "      <td>228100.0</td>\n",
       "    </tr>\n",
       "    <tr>\n",
       "      <th>3</th>\n",
       "      <td>193080</td>\n",
       "      <td>De Gea</td>\n",
       "      <td>27</td>\n",
       "      <td>Spain</td>\n",
       "      <td>91</td>\n",
       "      <td>93</td>\n",
       "      <td>Manchester United</td>\n",
       "      <td>72000.0</td>\n",
       "      <td>260.0</td>\n",
       "      <td>Right</td>\n",
       "      <td>4.0</td>\n",
       "      <td>1.0</td>\n",
       "      <td>GK</td>\n",
       "      <td>2011</td>\n",
       "      <td>2020-01-01</td>\n",
       "      <td>6.333333</td>\n",
       "      <td>168.0</td>\n",
       "      <td>138600.0</td>\n",
       "    </tr>\n",
       "    <tr>\n",
       "      <th>4</th>\n",
       "      <td>192985</td>\n",
       "      <td>K. De Bruyne</td>\n",
       "      <td>27</td>\n",
       "      <td>Belgium</td>\n",
       "      <td>91</td>\n",
       "      <td>92</td>\n",
       "      <td>Manchester City</td>\n",
       "      <td>102000.0</td>\n",
       "      <td>355.0</td>\n",
       "      <td>Right</td>\n",
       "      <td>4.0</td>\n",
       "      <td>4.0</td>\n",
       "      <td>RCM</td>\n",
       "      <td>2015</td>\n",
       "      <td>2023-01-01</td>\n",
       "      <td>5.916667</td>\n",
       "      <td>154.0</td>\n",
       "      <td>196400.0</td>\n",
       "    </tr>\n",
       "  </tbody>\n",
       "</table>\n",
       "</div>"
      ],
      "text/plain": [
       "       ID               Name  Age Nationality  Overall  Potential  \\\n",
       "0  158023           L. Messi   31   Argentina       94         94   \n",
       "1   20801  Cristiano Ronaldo   33    Portugal       94         94   \n",
       "2  190871          Neymar Jr   26      Brazil       92         93   \n",
       "3  193080             De Gea   27       Spain       91         93   \n",
       "4  192985       K. De Bruyne   27     Belgium       91         92   \n",
       "\n",
       "                  Club     Value   Wage Preferred Foot  \\\n",
       "0         FC Barcelona  110500.0  565.0           Left   \n",
       "1             Juventus   77000.0  405.0          Right   \n",
       "2  Paris Saint-Germain  118500.0  290.0          Right   \n",
       "3    Manchester United   72000.0  260.0          Right   \n",
       "4      Manchester City  102000.0  355.0          Right   \n",
       "\n",
       "   International Reputation  Skill Moves Position  Joined  \\\n",
       "0                       5.0          4.0       RF    2004   \n",
       "1                       5.0          5.0       ST    2018   \n",
       "2                       5.0          5.0       LW    2017   \n",
       "3                       4.0          1.0       GK    2011   \n",
       "4                       4.0          4.0      RCM    2015   \n",
       "\n",
       "  Contract Valid Until    Height  Weight  Release Clause  \n",
       "0           2021-01-01  5.583333   159.0        226500.0  \n",
       "1           2022-01-01  6.166667   183.0        127100.0  \n",
       "2           2022-01-01  5.750000   150.0        228100.0  \n",
       "3           2020-01-01  6.333333   168.0        138600.0  \n",
       "4           2023-01-01  5.916667   154.0        196400.0  "
      ]
     },
     "execution_count": 3,
     "metadata": {},
     "output_type": "execute_result"
    }
   ],
   "source": [
    "df.head()"
   ]
  },
  {
   "cell_type": "code",
   "execution_count": 4,
   "id": "a91f8757",
   "metadata": {},
   "outputs": [
    {
     "data": {
      "text/plain": [
       "count    18207.000000\n",
       "mean        66.238699\n",
       "std          6.908930\n",
       "min         46.000000\n",
       "25%         62.000000\n",
       "50%         66.000000\n",
       "75%         71.000000\n",
       "max         94.000000\n",
       "Name: Overall, dtype: float64"
      ]
     },
     "execution_count": 4,
     "metadata": {},
     "output_type": "execute_result"
    }
   ],
   "source": [
    "df.Overall.describe()"
   ]
  },
  {
   "cell_type": "code",
   "execution_count": 5,
   "id": "3730c3f3",
   "metadata": {},
   "outputs": [
    {
     "data": {
      "text/plain": [
       "<AxesSubplot:ylabel='Density'>"
      ]
     },
     "execution_count": 5,
     "metadata": {},
     "output_type": "execute_result"
    },
    {
     "data": {
      "image/png": "[encoded data removed]",
      "text/plain": [
       "<Figure size 432x288 with 1 Axes>"
      ]
     },
     "metadata": {
      "needs_background": "light"
     },
     "output_type": "display_data"
    }
   ],
   "source": [
    "df.Overall.plot(kind = 'kde')"
   ]
  },
  {
   "cell_type": "code",
   "execution_count": 6,
   "id": "4b34740c",
   "metadata": {},
   "outputs": [],
   "source": [
    "from scipy.stats import shapiro"
   ]
  },
  {
   "cell_type": "code",
   "execution_count": 8,
   "id": "5d0f3f96",
   "metadata": {},
   "outputs": [
    {
     "name": "stderr",
     "output_type": "stream",
     "text": [
      "C:\\Users\\sansk\\anaconda3\\lib\\site-packages\\scipy\\stats\\morestats.py:1760: UserWarning: p-value may not be accurate for N > 5000.\n",
      "  warnings.warn(\"p-value may not be accurate for N > 5000.\")\n"
     ]
    },
    {
     "data": {
      "text/plain": [
       "ShapiroResult(statistic=0.99654221534729, pvalue=3.971629839873509e-20)"
      ]
     },
     "execution_count": 8,
     "metadata": {},
     "output_type": "execute_result"
    }
   ],
   "source": [
    "shapiro(df['Overall'])"
   ]
  },
  {
   "cell_type": "code",
   "execution_count": 9,
   "id": "fa096784",
   "metadata": {},
   "outputs": [],
   "source": [
    "from scipy.stats import normaltest"
   ]
  },
  {
   "cell_type": "code",
   "execution_count": 10,
   "id": "eddd3be4",
   "metadata": {},
   "outputs": [
    {
     "data": {
      "text/plain": [
       "NormaltestResult(statistic=20.21918231962766, pvalue=4.0687438081063266e-05)"
      ]
     },
     "execution_count": 10,
     "metadata": {},
     "output_type": "execute_result"
    }
   ],
   "source": [
    "normaltest(df['Overall'])"
   ]
  },
  {
   "cell_type": "code",
   "execution_count": 11,
   "id": "101a6d31",
   "metadata": {},
   "outputs": [],
   "source": [
    "from scipy.stats import anderson"
   ]
  },
  {
   "cell_type": "code",
   "execution_count": 12,
   "id": "d1094931",
   "metadata": {},
   "outputs": [
    {
     "data": {
      "text/plain": [
       "AndersonResult(statistic=20.531203405276756, critical_values=array([0.576, 0.656, 0.787, 0.918, 1.092]), significance_level=array([15. , 10. ,  5. ,  2.5,  1. ]))"
      ]
     },
     "execution_count": 12,
     "metadata": {},
     "output_type": "execute_result"
    }
   ],
   "source": [
    "anderson(df['Overall'])"
   ]
  },
  {
   "cell_type": "code",
   "execution_count": 13,
   "id": "6c8ecdff",
   "metadata": {},
   "outputs": [
    {
     "data": {
      "text/plain": [
       "0.06718492227833812"
      ]
     },
     "execution_count": 13,
     "metadata": {},
     "output_type": "execute_result"
    }
   ],
   "source": [
    "df['Overall'].skew()"
   ]
  },
  {
   "cell_type": "code",
   "execution_count": 15,
   "id": "29f3c7c2",
   "metadata": {},
   "outputs": [
    {
     "data": {
      "text/plain": [
       "count     17955.000000\n",
       "mean       2444.530214\n",
       "std        5626.715434\n",
       "min          10.000000\n",
       "25%         325.000000\n",
       "50%         700.000000\n",
       "75%        2100.000000\n",
       "max      118500.000000\n",
       "Name: Value, dtype: float64"
      ]
     },
     "execution_count": 15,
     "metadata": {},
     "output_type": "execute_result"
    }
   ],
   "source": [
    "df[\"Value\"].describe()"
   ]
  },
  {
   "cell_type": "code",
   "execution_count": 16,
   "id": "46bb2142",
   "metadata": {},
   "outputs": [
    {
     "data": {
      "text/plain": [
       "<AxesSubplot:ylabel='Density'>"
      ]
     },
     "execution_count": 16,
     "metadata": {},
     "output_type": "execute_result"
    },
    {
     "data": {
      "image/png": "[encoded data removed]",
      "text/plain": [
       "<Figure size 432x288 with 1 Axes>"
      ]
     },
     "metadata": {
      "needs_background": "light"
     },
     "output_type": "display_data"
    }
   ],
   "source": [
    "df.Value.plot(kind = 'kde')"
   ]
  },
  {
   "cell_type": "code",
   "execution_count": 17,
   "id": "f22b8e31",
   "metadata": {},
   "outputs": [
    {
     "data": {
      "text/plain": [
       "AndersonResult(statistic=nan, critical_values=array([0.576, 0.656, 0.787, 0.918, 1.092]), significance_level=array([15. , 10. ,  5. ,  2.5,  1. ]))"
      ]
     },
     "execution_count": 17,
     "metadata": {},
     "output_type": "execute_result"
    }
   ],
   "source": [
    "anderson(df['Value'])"
   ]
  },
  {
   "cell_type": "code",
   "execution_count": 18,
   "id": "50c916bd",
   "metadata": {},
   "outputs": [
    {
     "data": {
      "text/plain": [
       "7.031610688129139"
      ]
     },
     "execution_count": 18,
     "metadata": {},
     "output_type": "execute_result"
    }
   ],
   "source": [
    "df['Value'].skew()"
   ]
  },
  {
   "cell_type": "code",
   "execution_count": 19,
   "id": "fa1e850c",
   "metadata": {},
   "outputs": [
    {
     "data": {
      "text/plain": [
       "count    18159.000000\n",
       "mean         1.113222\n",
       "std          0.394031\n",
       "min          1.000000\n",
       "25%          1.000000\n",
       "50%          1.000000\n",
       "75%          1.000000\n",
       "max          5.000000\n",
       "Name: International Reputation, dtype: float64"
      ]
     },
     "execution_count": 19,
     "metadata": {},
     "output_type": "execute_result"
    }
   ],
   "source": [
    "df['International Reputation'].describe()"
   ]
  },
  {
   "cell_type": "code",
   "execution_count": 20,
   "id": "bbf9f629",
   "metadata": {},
   "outputs": [
    {
     "data": {
      "text/plain": [
       "array([ 5.,  4.,  3.,  2.,  1., nan])"
      ]
     },
     "execution_count": 20,
     "metadata": {},
     "output_type": "execute_result"
    }
   ],
   "source": [
    "df['International Reputation'].unique()"
   ]
  },
  {
   "cell_type": "code",
   "execution_count": 22,
   "id": "0f79da53",
   "metadata": {},
   "outputs": [
    {
     "data": {
      "text/plain": [
       "count     18207.000000\n",
       "mean       4585.060971\n",
       "std       10630.414430\n",
       "min          13.000000\n",
       "25%         570.000000\n",
       "50%        1300.000000\n",
       "75%        4585.060806\n",
       "max      228100.000000\n",
       "Name: Release Clause, dtype: float64"
      ]
     },
     "execution_count": 22,
     "metadata": {},
     "output_type": "execute_result"
    }
   ],
   "source": [
    "df['Release Clause'].describe()"
   ]
  },
  {
   "cell_type": "markdown",
   "id": "59e20502",
   "metadata": {},
   "source": [
    "cloumn overall is normally distributed,whereas value and realease cause are not"
   ]
  },
  {
   "cell_type": "code",
   "execution_count": 23,
   "id": "1cac7b11",
   "metadata": {},
   "outputs": [
    {
     "data": {
      "text/plain": [
       "<AxesSubplot:ylabel='Density'>"
      ]
     },
     "execution_count": 23,
     "metadata": {},
     "output_type": "execute_result"
    },
    {
     "data": {
      "image/png": "[encoded data removed]",
      "text/plain": [
       "<Figure size 432x288 with 1 Axes>"
      ]
     },
     "metadata": {
      "needs_background": "light"
     },
     "output_type": "display_data"
    }
   ],
   "source": [
    "df['Release Clause'].plot(kind = 'kde')"
   ]
  },
  {
   "cell_type": "code",
   "execution_count": 25,
   "id": "a1e2a474",
   "metadata": {},
   "outputs": [
    {
     "name": "stderr",
     "output_type": "stream",
     "text": [
      "C:\\Users\\sansk\\anaconda3\\lib\\site-packages\\seaborn\\_decorators.py:36: FutureWarning: Pass the following variable as a keyword arg: x. From version 0.12, the only valid positional argument will be `data`, and passing other arguments without an explicit keyword will result in an error or misinterpretation.\n",
      "  warnings.warn(\n"
     ]
    },
    {
     "data": {
      "text/plain": [
       "<AxesSubplot:xlabel='International Reputation', ylabel='count'>"
      ]
     },
     "execution_count": 25,
     "metadata": {},
     "output_type": "execute_result"
    },
    {
     "data": {
      "image/png": "[encoded data removed]",
      "text/plain": [
       "<Figure size 432x288 with 1 Axes>"
      ]
     },
     "metadata": {
      "needs_background": "light"
     },
     "output_type": "display_data"
    }
   ],
   "source": [
    "sns.countplot(df['International Reputation'])"
   ]
  },
  {
   "cell_type": "code",
   "execution_count": 26,
   "id": "86c02d66",
   "metadata": {},
   "outputs": [
    {
     "data": {
      "text/plain": [
       "array(['RF', 'ST', 'LW', 'GK', 'RCM', 'LF', 'RS', 'RCB', 'LCM', 'CB',\n",
       "       'LDM', 'CAM', 'CDM', 'LS', 'LCB', 'RM', 'LAM', 'LM', 'LB', 'RDM',\n",
       "       'RW', 'CM', 'RB', 'RAM', 'CF', 'RWB', 'LWB'], dtype=object)"
      ]
     },
     "execution_count": 26,
     "metadata": {},
     "output_type": "execute_result"
    }
   ],
   "source": [
    "df['Position'].unique()"
   ]
  },
  {
   "cell_type": "code",
   "execution_count": 27,
   "id": "bd249ddf",
   "metadata": {},
   "outputs": [
    {
     "data": {
      "text/plain": [
       "England                 1662\n",
       "Germany                 1198\n",
       "Spain                   1072\n",
       "Argentina                937\n",
       "France                   914\n",
       "                        ... \n",
       "New Caledonia              1\n",
       "Fiji                       1\n",
       "São Tomé & Príncipe        1\n",
       "United Arab Emirates       1\n",
       "Botswana                   1\n",
       "Name: Nationality, Length: 164, dtype: int64"
      ]
     },
     "execution_count": 27,
     "metadata": {},
     "output_type": "execute_result"
    }
   ],
   "source": [
    "df['Nationality'].value_counts()"
   ]
  },
  {
   "cell_type": "markdown",
   "id": "8ee28f0b",
   "metadata": {},
   "source": [
    "england has highest football players followed by germany and spain"
   ]
  },
  {
   "cell_type": "code",
   "execution_count": 28,
   "id": "216ca1f7",
   "metadata": {},
   "outputs": [
    {
     "data": {
      "text/plain": [
       "FC Barcelona                 33\n",
       "Valencia CF                  33\n",
       "Fortuna Düsseldorf           33\n",
       "Cardiff City                 33\n",
       "Rayo Vallecano               33\n",
       "                             ..\n",
       "América FC (Minas Gerais)    20\n",
       "Fluminense                   20\n",
       "Sligo Rovers                 19\n",
       "Limerick FC                  19\n",
       "Derry City                   18\n",
       "Name: Club, Length: 651, dtype: int64"
      ]
     },
     "execution_count": 28,
     "metadata": {},
     "output_type": "execute_result"
    }
   ],
   "source": [
    "df['Club'].value_counts()"
   ]
  },
  {
   "cell_type": "code",
   "execution_count": 5,
   "id": "54ab7236",
   "metadata": {},
   "outputs": [],
   "source": [
    "football = df.groupby('Club')"
   ]
  },
  {
   "cell_type": "markdown",
   "id": "258da44f",
   "metadata": {},
   "source": [
    "# clubs with most valuable players"
   ]
  },
  {
   "cell_type": "code",
   "execution_count": 6,
   "id": "1194aa3a",
   "metadata": {},
   "outputs": [
    {
     "data": {
      "text/plain": [
       "Club\n",
       "Real Madrid            874425.0\n",
       "FC Barcelona           852600.0\n",
       "Manchester City        786555.0\n",
       "Juventus               704475.0\n",
       "FC Bayern München      679025.0\n",
       "Atlético Madrid        644525.0\n",
       "Paris Saint-Germain    625325.0\n",
       "Tottenham Hotspur      618450.0\n",
       "Chelsea                606815.0\n",
       "Manchester United      588850.0\n",
       "Name: Value, dtype: float64"
      ]
     },
     "execution_count": 6,
     "metadata": {},
     "output_type": "execute_result"
    }
   ],
   "source": [
    "football['Value'].sum().sort_values(ascending = False).head(10)"
   ]
  },
  {
   "cell_type": "code",
   "execution_count": 34,
   "id": "08acfb24",
   "metadata": {},
   "outputs": [
    {
     "data": {
      "text/plain": [
       "Club\n",
       "Juventus               28179.000000\n",
       "Real Madrid            26497.727273\n",
       "FC Barcelona           25836.363636\n",
       "Manchester City        23835.000000\n",
       "FC Bayern München      23414.655172\n",
       "Paris Saint-Germain    20844.166667\n",
       "Napoli                 20560.000000\n",
       "Atlético Madrid        19531.060606\n",
       "Inter                  19436.875000\n",
       "Tottenham Hotspur      18740.909091\n",
       "Name: Value, dtype: float64"
      ]
     },
     "execution_count": 34,
     "metadata": {},
     "output_type": "execute_result"
    }
   ],
   "source": [
    "football['Value'].mean().sort_values(ascending = False).head(10)"
   ]
  },
  {
   "cell_type": "markdown",
   "id": "15a236c3",
   "metadata": {},
   "source": [
    "# clubs on the basis of  overall performance of player"
   ]
  },
  {
   "cell_type": "code",
   "execution_count": 36,
   "id": "0a490888",
   "metadata": {},
   "outputs": [
    {
     "data": {
      "text/plain": [
       "Club\n",
       "Juventus               82.280000\n",
       "Napoli                 80.000000\n",
       "Inter                  79.750000\n",
       "Real Madrid            78.242424\n",
       "Milan                  78.074074\n",
       "FC Barcelona           78.030303\n",
       "Paris Saint-Germain    77.433333\n",
       "Roma                   77.423077\n",
       "Manchester United      77.242424\n",
       "FC Bayern München      77.000000\n",
       "Name: Overall, dtype: float64"
      ]
     },
     "execution_count": 36,
     "metadata": {},
     "output_type": "execute_result"
    }
   ],
   "source": [
    "football['Overall'].mean().sort_values(ascending = False).head(10)"
   ]
  },
  {
   "cell_type": "code",
   "execution_count": 37,
   "id": "8dfd1170",
   "metadata": {},
   "outputs": [
    {
     "data": {
      "text/plain": [
       "Club\n",
       "Real Madrid          2582\n",
       "FC Barcelona         2575\n",
       "Manchester United    2549\n",
       "Chelsea              2534\n",
       "Manchester City      2532\n",
       "Tottenham Hotspur    2531\n",
       "Liverpool            2508\n",
       "Borussia Dortmund    2486\n",
       "Arsenal              2481\n",
       "Atlético Madrid      2477\n",
       "Name: Overall, dtype: int64"
      ]
     },
     "execution_count": 37,
     "metadata": {},
     "output_type": "execute_result"
    }
   ],
   "source": [
    "football['Overall'].sum().sort_values(ascending = False).head(10)"
   ]
  },
  {
   "cell_type": "markdown",
   "id": "ea7e32a4",
   "metadata": {},
   "source": [
    "# clubs with most reputed players"
   ]
  },
  {
   "cell_type": "code",
   "execution_count": 38,
   "id": "2141d3bd",
   "metadata": {},
   "outputs": [
    {
     "data": {
      "text/plain": [
       "Chelsea                        23\n",
       "Manchester United              21\n",
       "Manchester City                21\n",
       "Juventus                       21\n",
       "Borussia Dortmund              21\n",
       "                               ..\n",
       "Hellas Verona                   1\n",
       "Gimnasia y Esgrima La Plata     1\n",
       "AIK                             1\n",
       "CD Nacional                     1\n",
       "Port Vale                       1\n",
       "Name: Club, Length: 361, dtype: int64"
      ]
     },
     "execution_count": 38,
     "metadata": {},
     "output_type": "execute_result"
    }
   ],
   "source": [
    "df[df['International Reputation'] > 1]['Club'].value_counts()"
   ]
  },
  {
   "cell_type": "code",
   "execution_count": 41,
   "id": "40e9e9d1",
   "metadata": {},
   "outputs": [
    {
     "data": {
      "text/plain": [
       "FC Barcelona                      14\n",
       "FC Bayern München                 14\n",
       "Arsenal                           14\n",
       "Juventus                          14\n",
       "Real Madrid                       13\n",
       "                                  ..\n",
       "FC Schalke 04                      1\n",
       "Bournemouth                        1\n",
       "Guangzhou Evergrande Taobao FC     1\n",
       "Stade Rennais FC                   1\n",
       "Jeonbuk Hyundai Motors             1\n",
       "Name: Club, Length: 102, dtype: int64"
      ]
     },
     "execution_count": 41,
     "metadata": {},
     "output_type": "execute_result"
    }
   ],
   "source": [
    "df[df['International Reputation'] > 2]['Club'].value_counts()"
   ]
  },
  {
   "cell_type": "code",
   "execution_count": 43,
   "id": "cb572bcb",
   "metadata": {},
   "outputs": [
    {
     "data": {
      "text/plain": [
       "FC Bayern München         9\n",
       "Real Madrid               7\n",
       "FC Barcelona              6\n",
       "Paris Saint-Germain       6\n",
       "Manchester City           4\n",
       "Manchester United         3\n",
       "Chelsea                   3\n",
       "Juventus                  2\n",
       "Arsenal                   2\n",
       "Borussia Dortmund         2\n",
       "Atlético Madrid           2\n",
       "Milan                     1\n",
       "Tottenham Hotspur         1\n",
       "Vissel Kobe               1\n",
       "Beşiktaş JK               1\n",
       "LA Galaxy                 1\n",
       "OGC Nice                  1\n",
       "FC Porto                  1\n",
       "Shanghai SIPG FC          1\n",
       "Hebei China Fortune FC    1\n",
       "Chicago Fire              1\n",
       "DC United                 1\n",
       "Name: Club, dtype: int64"
      ]
     },
     "execution_count": 43,
     "metadata": {},
     "output_type": "execute_result"
    }
   ],
   "source": [
    "df[df['International Reputation'] > 3 ]['Club'].value_counts()"
   ]
  },
  {
   "cell_type": "code",
   "execution_count": 44,
   "id": "91415ec8",
   "metadata": {},
   "outputs": [
    {
     "data": {
      "text/plain": [
       "FC Bayern München         8\n",
       "Real Madrid               7\n",
       "Paris Saint-Germain       5\n",
       "FC Barcelona              4\n",
       "Manchester City           4\n",
       "Manchester United         3\n",
       "Chelsea                   3\n",
       "Atlético Madrid           2\n",
       "Borussia Dortmund         2\n",
       "Arsenal                   2\n",
       "OGC Nice                  1\n",
       "Chicago Fire              1\n",
       "Hebei China Fortune FC    1\n",
       "Shanghai SIPG FC          1\n",
       "FC Porto                  1\n",
       "Milan                     1\n",
       "Beşiktaş JK               1\n",
       "Vissel Kobe               1\n",
       "Tottenham Hotspur         1\n",
       "Juventus                  1\n",
       "DC United                 1\n",
       "Name: Club, dtype: int64"
      ]
     },
     "execution_count": 44,
     "metadata": {},
     "output_type": "execute_result"
    }
   ],
   "source": [
    "df[df['International Reputation'] == 4 ]['Club'].value_counts()"
   ]
  },
  {
   "cell_type": "code",
   "execution_count": 45,
   "id": "dc270097",
   "metadata": {},
   "outputs": [
    {
     "data": {
      "text/plain": [
       "Juventus               4\n",
       "Paris Saint-Germain    3\n",
       "FC Bayern München      3\n",
       "Real Madrid            2\n",
       "FC Porto               2\n",
       "Vitesse                1\n",
       "DC United              1\n",
       "Al Hilal               1\n",
       "Al Ittihad             1\n",
       "Feyenoord              1\n",
       "Club Necaxa            1\n",
       "Aston Villa            1\n",
       "Al Qadisiyah           1\n",
       "Stade Rennais FC       1\n",
       "1. FSV Mainz 05        1\n",
       "ADO Den Haag           1\n",
       "Sunderland             1\n",
       "FC Metz                1\n",
       "Sint-Truidense VV      1\n",
       "Aberdeen               1\n",
       "Philadelphia Union     1\n",
       "Borussia Dortmund      1\n",
       "Ajax                   1\n",
       "SL Benfica             1\n",
       "FC Schalke 04          1\n",
       "FC Barcelona           1\n",
       "Manchester United      1\n",
       "Manchester City        1\n",
       "LA Galaxy              1\n",
       "Olympique Lyonnais     1\n",
       "Beşiktaş JK            1\n",
       "Sevilla FC             1\n",
       "Atlético Madrid        1\n",
       "Crystal Palace         1\n",
       "Shakhtar Donetsk       1\n",
       "Liverpool              1\n",
       "Roma                   1\n",
       "Sporting CP            1\n",
       "Montreal Impact        1\n",
       "Villarreal CF          1\n",
       "Hallescher FC          1\n",
       "Name: Club, dtype: int64"
      ]
     },
     "execution_count": 45,
     "metadata": {},
     "output_type": "execute_result"
    }
   ],
   "source": [
    "df[df['Skill Moves'] > 4]['Club'].value_counts()"
   ]
  },
  {
   "cell_type": "code",
   "execution_count": 49,
   "id": "31a62889",
   "metadata": {},
   "outputs": [
    {
     "data": {
      "text/plain": [
       "Liverpool              11\n",
       "Manchester United      11\n",
       "Paris Saint-Germain    10\n",
       "Manchester City        10\n",
       "Olympique Lyonnais     10\n",
       "FC Barcelona            9\n",
       "Borussia Dortmund       9\n",
       "Real Madrid             9\n",
       "West Ham United         9\n",
       "Milan                   9\n",
       "Name: Club, dtype: int64"
      ]
     },
     "execution_count": 49,
     "metadata": {},
     "output_type": "execute_result"
    }
   ],
   "source": [
    "df[df['Skill Moves'] > 3]['Club'].value_counts().head(10)"
   ]
  },
  {
   "cell_type": "code",
   "execution_count": 51,
   "id": "f78312ea",
   "metadata": {},
   "outputs": [
    {
     "data": {
      "text/plain": [
       "Club\n",
       "Juventus                  85.520000\n",
       "FC Barcelona              85.303030\n",
       "Real Madrid               84.636364\n",
       "Manchester City           83.909091\n",
       "FC Bayern München         83.655172\n",
       "                            ...    \n",
       "St. Patrick's Athletic    63.000000\n",
       "Tianjin TEDA FC           62.857143\n",
       "Bray Wanderers            62.608696\n",
       "Morecambe                 62.178571\n",
       "Limerick FC               61.263158\n",
       "Name: Potential, Length: 651, dtype: float64"
      ]
     },
     "execution_count": 51,
     "metadata": {},
     "output_type": "execute_result"
    }
   ],
   "source": [
    "football['Potential'].mean().sort_values(ascending = False)"
   ]
  },
  {
   "cell_type": "markdown",
   "id": "fcd8ebc8",
   "metadata": {},
   "source": [
    "conculusion - so overall juventus,FC bayern munich,FC barcelona,Real madrid,Paris Saint-Germain ,Manchester City ,Liverpool     \n",
    "Manchester United LOOKS STRONG and contains most valuable players with good skills and high potential"
   ]
  },
  {
   "cell_type": "markdown",
   "id": "5c28139f",
   "metadata": {},
   "source": [
    "# playerwise analysis "
   ]
  },
  {
   "cell_type": "code",
   "execution_count": 65,
   "id": "9a93415f",
   "metadata": {},
   "outputs": [
    {
     "data": {
      "text/html": [
       "<div>\n",
       "<style scoped>\n",
       "    .dataframe tbody tr th:only-of-type {\n",
       "        vertical-align: middle;\n",
       "    }\n",
       "\n",
       "    .dataframe tbody tr th {\n",
       "        vertical-align: top;\n",
       "    }\n",
       "\n",
       "    .dataframe thead th {\n",
       "        text-align: right;\n",
       "    }\n",
       "</style>\n",
       "<table border=\"1\" class=\"dataframe\">\n",
       "  <thead>\n",
       "    <tr style=\"text-align: right;\">\n",
       "      <th></th>\n",
       "      <th>Name</th>\n",
       "      <th>Value</th>\n",
       "    </tr>\n",
       "  </thead>\n",
       "  <tbody>\n",
       "    <tr>\n",
       "      <th>2</th>\n",
       "      <td>Neymar Jr</td>\n",
       "      <td>118500.0</td>\n",
       "    </tr>\n",
       "    <tr>\n",
       "      <th>0</th>\n",
       "      <td>L. Messi</td>\n",
       "      <td>110500.0</td>\n",
       "    </tr>\n",
       "    <tr>\n",
       "      <th>4</th>\n",
       "      <td>K. De Bruyne</td>\n",
       "      <td>102000.0</td>\n",
       "    </tr>\n",
       "    <tr>\n",
       "      <th>5</th>\n",
       "      <td>E. Hazard</td>\n",
       "      <td>93000.0</td>\n",
       "    </tr>\n",
       "    <tr>\n",
       "      <th>15</th>\n",
       "      <td>P. Dybala</td>\n",
       "      <td>89000.0</td>\n",
       "    </tr>\n",
       "    <tr>\n",
       "      <th>16</th>\n",
       "      <td>H. Kane</td>\n",
       "      <td>83500.0</td>\n",
       "    </tr>\n",
       "    <tr>\n",
       "      <th>25</th>\n",
       "      <td>K. Mbappé</td>\n",
       "      <td>81000.0</td>\n",
       "    </tr>\n",
       "    <tr>\n",
       "      <th>7</th>\n",
       "      <td>L. Suárez</td>\n",
       "      <td>80000.0</td>\n",
       "    </tr>\n",
       "    <tr>\n",
       "      <th>17</th>\n",
       "      <td>A. Griezmann</td>\n",
       "      <td>78000.0</td>\n",
       "    </tr>\n",
       "    <tr>\n",
       "      <th>10</th>\n",
       "      <td>R. Lewandowski</td>\n",
       "      <td>77000.0</td>\n",
       "    </tr>\n",
       "  </tbody>\n",
       "</table>\n",
       "</div>"
      ],
      "text/plain": [
       "              Name     Value\n",
       "2        Neymar Jr  118500.0\n",
       "0         L. Messi  110500.0\n",
       "4     K. De Bruyne  102000.0\n",
       "5        E. Hazard   93000.0\n",
       "15       P. Dybala   89000.0\n",
       "16         H. Kane   83500.0\n",
       "25       K. Mbappé   81000.0\n",
       "7        L. Suárez   80000.0\n",
       "17    A. Griezmann   78000.0\n",
       "10  R. Lewandowski   77000.0"
      ]
     },
     "execution_count": 65,
     "metadata": {},
     "output_type": "execute_result"
    }
   ],
   "source": [
    "df[['Name','Value']].sort_values(by = ['Value'],ascending = False).head(10)"
   ]
  },
  {
   "cell_type": "code",
   "execution_count": 67,
   "id": "413aaccc",
   "metadata": {},
   "outputs": [
    {
     "data": {
      "text/html": [
       "<div>\n",
       "<style scoped>\n",
       "    .dataframe tbody tr th:only-of-type {\n",
       "        vertical-align: middle;\n",
       "    }\n",
       "\n",
       "    .dataframe tbody tr th {\n",
       "        vertical-align: top;\n",
       "    }\n",
       "\n",
       "    .dataframe thead th {\n",
       "        text-align: right;\n",
       "    }\n",
       "</style>\n",
       "<table border=\"1\" class=\"dataframe\">\n",
       "  <thead>\n",
       "    <tr style=\"text-align: right;\">\n",
       "      <th></th>\n",
       "      <th>Name</th>\n",
       "      <th>Release Clause</th>\n",
       "    </tr>\n",
       "  </thead>\n",
       "  <tbody>\n",
       "    <tr>\n",
       "      <th>2</th>\n",
       "      <td>Neymar Jr</td>\n",
       "      <td>228100.0</td>\n",
       "    </tr>\n",
       "    <tr>\n",
       "      <th>0</th>\n",
       "      <td>L. Messi</td>\n",
       "      <td>226500.0</td>\n",
       "    </tr>\n",
       "    <tr>\n",
       "      <th>4</th>\n",
       "      <td>K. De Bruyne</td>\n",
       "      <td>196400.0</td>\n",
       "    </tr>\n",
       "    <tr>\n",
       "      <th>5</th>\n",
       "      <td>E. Hazard</td>\n",
       "      <td>172100.0</td>\n",
       "    </tr>\n",
       "    <tr>\n",
       "      <th>25</th>\n",
       "      <td>K. Mbappé</td>\n",
       "      <td>166100.0</td>\n",
       "    </tr>\n",
       "    <tr>\n",
       "      <th>17</th>\n",
       "      <td>A. Griezmann</td>\n",
       "      <td>165800.0</td>\n",
       "    </tr>\n",
       "    <tr>\n",
       "      <th>7</th>\n",
       "      <td>L. Suárez</td>\n",
       "      <td>164000.0</td>\n",
       "    </tr>\n",
       "    <tr>\n",
       "      <th>16</th>\n",
       "      <td>H. Kane</td>\n",
       "      <td>160700.0</td>\n",
       "    </tr>\n",
       "    <tr>\n",
       "      <th>11</th>\n",
       "      <td>T. Kroos</td>\n",
       "      <td>156800.0</td>\n",
       "    </tr>\n",
       "    <tr>\n",
       "      <th>30</th>\n",
       "      <td>Isco</td>\n",
       "      <td>156200.0</td>\n",
       "    </tr>\n",
       "  </tbody>\n",
       "</table>\n",
       "</div>"
      ],
      "text/plain": [
       "            Name  Release Clause\n",
       "2      Neymar Jr        228100.0\n",
       "0       L. Messi        226500.0\n",
       "4   K. De Bruyne        196400.0\n",
       "5      E. Hazard        172100.0\n",
       "25     K. Mbappé        166100.0\n",
       "17  A. Griezmann        165800.0\n",
       "7      L. Suárez        164000.0\n",
       "16       H. Kane        160700.0\n",
       "11      T. Kroos        156800.0\n",
       "30          Isco        156200.0"
      ]
     },
     "execution_count": 67,
     "metadata": {},
     "output_type": "execute_result"
    }
   ],
   "source": [
    "df[['Name','Release Clause']].sort_values(by = ['Release Clause'],ascending = False).head(10)"
   ]
  },
  {
   "cell_type": "code",
   "execution_count": 68,
   "id": "9dd65e34",
   "metadata": {},
   "outputs": [
    {
     "data": {
      "text/html": [
       "<div>\n",
       "<style scoped>\n",
       "    .dataframe tbody tr th:only-of-type {\n",
       "        vertical-align: middle;\n",
       "    }\n",
       "\n",
       "    .dataframe tbody tr th {\n",
       "        vertical-align: top;\n",
       "    }\n",
       "\n",
       "    .dataframe thead th {\n",
       "        text-align: right;\n",
       "    }\n",
       "</style>\n",
       "<table border=\"1\" class=\"dataframe\">\n",
       "  <thead>\n",
       "    <tr style=\"text-align: right;\">\n",
       "      <th></th>\n",
       "      <th>Name</th>\n",
       "      <th>Overall</th>\n",
       "    </tr>\n",
       "  </thead>\n",
       "  <tbody>\n",
       "    <tr>\n",
       "      <th>0</th>\n",
       "      <td>L. Messi</td>\n",
       "      <td>94</td>\n",
       "    </tr>\n",
       "    <tr>\n",
       "      <th>1</th>\n",
       "      <td>Cristiano Ronaldo</td>\n",
       "      <td>94</td>\n",
       "    </tr>\n",
       "    <tr>\n",
       "      <th>2</th>\n",
       "      <td>Neymar Jr</td>\n",
       "      <td>92</td>\n",
       "    </tr>\n",
       "    <tr>\n",
       "      <th>3</th>\n",
       "      <td>De Gea</td>\n",
       "      <td>91</td>\n",
       "    </tr>\n",
       "    <tr>\n",
       "      <th>4</th>\n",
       "      <td>K. De Bruyne</td>\n",
       "      <td>91</td>\n",
       "    </tr>\n",
       "    <tr>\n",
       "      <th>5</th>\n",
       "      <td>E. Hazard</td>\n",
       "      <td>91</td>\n",
       "    </tr>\n",
       "    <tr>\n",
       "      <th>6</th>\n",
       "      <td>L. Modrić</td>\n",
       "      <td>91</td>\n",
       "    </tr>\n",
       "    <tr>\n",
       "      <th>7</th>\n",
       "      <td>L. Suárez</td>\n",
       "      <td>91</td>\n",
       "    </tr>\n",
       "    <tr>\n",
       "      <th>8</th>\n",
       "      <td>Sergio Ramos</td>\n",
       "      <td>91</td>\n",
       "    </tr>\n",
       "    <tr>\n",
       "      <th>12</th>\n",
       "      <td>D. Godín</td>\n",
       "      <td>90</td>\n",
       "    </tr>\n",
       "  </tbody>\n",
       "</table>\n",
       "</div>"
      ],
      "text/plain": [
       "                 Name  Overall\n",
       "0            L. Messi       94\n",
       "1   Cristiano Ronaldo       94\n",
       "2           Neymar Jr       92\n",
       "3              De Gea       91\n",
       "4        K. De Bruyne       91\n",
       "5           E. Hazard       91\n",
       "6           L. Modrić       91\n",
       "7           L. Suárez       91\n",
       "8        Sergio Ramos       91\n",
       "12           D. Godín       90"
      ]
     },
     "execution_count": 68,
     "metadata": {},
     "output_type": "execute_result"
    }
   ],
   "source": [
    "df[['Name','Overall']].sort_values(by = ['Overall'],ascending = False).head(10)"
   ]
  },
  {
   "cell_type": "code",
   "execution_count": 70,
   "id": "ac7d0486",
   "metadata": {},
   "outputs": [
    {
     "data": {
      "text/html": [
       "<div>\n",
       "<style scoped>\n",
       "    .dataframe tbody tr th:only-of-type {\n",
       "        vertical-align: middle;\n",
       "    }\n",
       "\n",
       "    .dataframe tbody tr th {\n",
       "        vertical-align: top;\n",
       "    }\n",
       "\n",
       "    .dataframe thead th {\n",
       "        text-align: right;\n",
       "    }\n",
       "</style>\n",
       "<table border=\"1\" class=\"dataframe\">\n",
       "  <thead>\n",
       "    <tr style=\"text-align: right;\">\n",
       "      <th></th>\n",
       "      <th>Name</th>\n",
       "      <th>Skill Moves</th>\n",
       "    </tr>\n",
       "  </thead>\n",
       "  <tbody>\n",
       "    <tr>\n",
       "      <th>1</th>\n",
       "      <td>Cristiano Ronaldo</td>\n",
       "      <td>5.0</td>\n",
       "    </tr>\n",
       "    <tr>\n",
       "      <th>2</th>\n",
       "      <td>Neymar Jr</td>\n",
       "      <td>5.0</td>\n",
       "    </tr>\n",
       "    <tr>\n",
       "      <th>25</th>\n",
       "      <td>K. Mbappé</td>\n",
       "      <td>5.0</td>\n",
       "    </tr>\n",
       "    <tr>\n",
       "      <th>32</th>\n",
       "      <td>Coutinho</td>\n",
       "      <td>5.0</td>\n",
       "    </tr>\n",
       "    <tr>\n",
       "      <th>35</th>\n",
       "      <td>Marcelo</td>\n",
       "      <td>5.0</td>\n",
       "    </tr>\n",
       "    <tr>\n",
       "      <th>45</th>\n",
       "      <td>P. Pogba</td>\n",
       "      <td>5.0</td>\n",
       "    </tr>\n",
       "    <tr>\n",
       "      <th>65</th>\n",
       "      <td>Douglas Costa</td>\n",
       "      <td>5.0</td>\n",
       "    </tr>\n",
       "    <tr>\n",
       "      <th>67</th>\n",
       "      <td>Thiago</td>\n",
       "      <td>5.0</td>\n",
       "    </tr>\n",
       "    <tr>\n",
       "      <th>84</th>\n",
       "      <td>R. Mahrez</td>\n",
       "      <td>5.0</td>\n",
       "    </tr>\n",
       "    <tr>\n",
       "      <th>109</th>\n",
       "      <td>Z. Ibrahimović</td>\n",
       "      <td>5.0</td>\n",
       "    </tr>\n",
       "    <tr>\n",
       "      <th>124</th>\n",
       "      <td>M. Depay</td>\n",
       "      <td>5.0</td>\n",
       "    </tr>\n",
       "    <tr>\n",
       "      <th>129</th>\n",
       "      <td>J. Cuadrado</td>\n",
       "      <td>5.0</td>\n",
       "    </tr>\n",
       "    <tr>\n",
       "      <th>138</th>\n",
       "      <td>A. Di María</td>\n",
       "      <td>5.0</td>\n",
       "    </tr>\n",
       "    <tr>\n",
       "      <th>153</th>\n",
       "      <td>Quaresma</td>\n",
       "      <td>5.0</td>\n",
       "    </tr>\n",
       "    <tr>\n",
       "      <th>164</th>\n",
       "      <td>K. Coman</td>\n",
       "      <td>5.0</td>\n",
       "    </tr>\n",
       "    <tr>\n",
       "      <th>170</th>\n",
       "      <td>Q. Promes</td>\n",
       "      <td>5.0</td>\n",
       "    </tr>\n",
       "    <tr>\n",
       "      <th>221</th>\n",
       "      <td>F. Ribéry</td>\n",
       "      <td>5.0</td>\n",
       "    </tr>\n",
       "    <tr>\n",
       "      <th>233</th>\n",
       "      <td>Gelson Martins</td>\n",
       "      <td>5.0</td>\n",
       "    </tr>\n",
       "    <tr>\n",
       "      <th>243</th>\n",
       "      <td>F. Bernardeschi</td>\n",
       "      <td>5.0</td>\n",
       "    </tr>\n",
       "    <tr>\n",
       "      <th>270</th>\n",
       "      <td>W. Zaha</td>\n",
       "      <td>5.0</td>\n",
       "    </tr>\n",
       "    <tr>\n",
       "      <th>288</th>\n",
       "      <td>Marlos</td>\n",
       "      <td>5.0</td>\n",
       "    </tr>\n",
       "    <tr>\n",
       "      <th>370</th>\n",
       "      <td>X. Shaqiri</td>\n",
       "      <td>5.0</td>\n",
       "    </tr>\n",
       "    <tr>\n",
       "      <th>371</th>\n",
       "      <td>J. Corona</td>\n",
       "      <td>5.0</td>\n",
       "    </tr>\n",
       "    <tr>\n",
       "      <th>376</th>\n",
       "      <td>S. El Shaarawy</td>\n",
       "      <td>5.0</td>\n",
       "    </tr>\n",
       "    <tr>\n",
       "      <th>408</th>\n",
       "      <td>Nani</td>\n",
       "      <td>5.0</td>\n",
       "    </tr>\n",
       "    <tr>\n",
       "      <th>480</th>\n",
       "      <td>V. Aboubakar</td>\n",
       "      <td>5.0</td>\n",
       "    </tr>\n",
       "    <tr>\n",
       "      <th>524</th>\n",
       "      <td>I. Piatti</td>\n",
       "      <td>5.0</td>\n",
       "    </tr>\n",
       "    <tr>\n",
       "      <th>545</th>\n",
       "      <td>Santi Cazorla</td>\n",
       "      <td>5.0</td>\n",
       "    </tr>\n",
       "    <tr>\n",
       "      <th>557</th>\n",
       "      <td>David Neres</td>\n",
       "      <td>5.0</td>\n",
       "    </tr>\n",
       "    <tr>\n",
       "      <th>559</th>\n",
       "      <td>A. Harit</td>\n",
       "      <td>5.0</td>\n",
       "    </tr>\n",
       "    <tr>\n",
       "      <th>582</th>\n",
       "      <td>F. Cervi</td>\n",
       "      <td>5.0</td>\n",
       "    </tr>\n",
       "    <tr>\n",
       "      <th>711</th>\n",
       "      <td>H. Ben Arfa</td>\n",
       "      <td>5.0</td>\n",
       "    </tr>\n",
       "    <tr>\n",
       "      <th>1004</th>\n",
       "      <td>J. Sancho</td>\n",
       "      <td>5.0</td>\n",
       "    </tr>\n",
       "    <tr>\n",
       "      <th>1132</th>\n",
       "      <td>L. Acosta</td>\n",
       "      <td>5.0</td>\n",
       "    </tr>\n",
       "    <tr>\n",
       "      <th>1143</th>\n",
       "      <td>Vinícius Júnior</td>\n",
       "      <td>5.0</td>\n",
       "    </tr>\n",
       "    <tr>\n",
       "      <th>1170</th>\n",
       "      <td>O. Abdulrahman</td>\n",
       "      <td>5.0</td>\n",
       "    </tr>\n",
       "    <tr>\n",
       "      <th>1195</th>\n",
       "      <td>C. Villanueva</td>\n",
       "      <td>5.0</td>\n",
       "    </tr>\n",
       "    <tr>\n",
       "      <th>1818</th>\n",
       "      <td>S. Larsson</td>\n",
       "      <td>5.0</td>\n",
       "    </tr>\n",
       "    <tr>\n",
       "      <th>1998</th>\n",
       "      <td>M. Fernández</td>\n",
       "      <td>5.0</td>\n",
       "    </tr>\n",
       "    <tr>\n",
       "      <th>2017</th>\n",
       "      <td>Y. Bolasie</td>\n",
       "      <td>5.0</td>\n",
       "    </tr>\n",
       "    <tr>\n",
       "      <th>2495</th>\n",
       "      <td>M. Ødegaard</td>\n",
       "      <td>5.0</td>\n",
       "    </tr>\n",
       "    <tr>\n",
       "      <th>2768</th>\n",
       "      <td>Élton</td>\n",
       "      <td>5.0</td>\n",
       "    </tr>\n",
       "    <tr>\n",
       "      <th>2878</th>\n",
       "      <td>A. Maxim</td>\n",
       "      <td>5.0</td>\n",
       "    </tr>\n",
       "    <tr>\n",
       "      <th>3148</th>\n",
       "      <td>R. Kishna</td>\n",
       "      <td>5.0</td>\n",
       "    </tr>\n",
       "    <tr>\n",
       "      <th>3166</th>\n",
       "      <td>A. McGeady</td>\n",
       "      <td>5.0</td>\n",
       "    </tr>\n",
       "    <tr>\n",
       "      <th>3232</th>\n",
       "      <td>F. Boulaya</td>\n",
       "      <td>5.0</td>\n",
       "    </tr>\n",
       "    <tr>\n",
       "      <th>4217</th>\n",
       "      <td>Shikabala</td>\n",
       "      <td>5.0</td>\n",
       "    </tr>\n",
       "    <tr>\n",
       "      <th>4749</th>\n",
       "      <td>J. Botaka</td>\n",
       "      <td>5.0</td>\n",
       "    </tr>\n",
       "    <tr>\n",
       "      <th>4838</th>\n",
       "      <td>G. Mackay-Steven</td>\n",
       "      <td>5.0</td>\n",
       "    </tr>\n",
       "    <tr>\n",
       "      <th>8712</th>\n",
       "      <td>Ilsinho</td>\n",
       "      <td>5.0</td>\n",
       "    </tr>\n",
       "    <tr>\n",
       "      <th>8943</th>\n",
       "      <td>B. Manu</td>\n",
       "      <td>5.0</td>\n",
       "    </tr>\n",
       "  </tbody>\n",
       "</table>\n",
       "</div>"
      ],
      "text/plain": [
       "                   Name  Skill Moves\n",
       "1     Cristiano Ronaldo          5.0\n",
       "2             Neymar Jr          5.0\n",
       "25            K. Mbappé          5.0\n",
       "32             Coutinho          5.0\n",
       "35              Marcelo          5.0\n",
       "45             P. Pogba          5.0\n",
       "65        Douglas Costa          5.0\n",
       "67               Thiago          5.0\n",
       "84            R. Mahrez          5.0\n",
       "109      Z. Ibrahimović          5.0\n",
       "124            M. Depay          5.0\n",
       "129         J. Cuadrado          5.0\n",
       "138         A. Di María          5.0\n",
       "153            Quaresma          5.0\n",
       "164            K. Coman          5.0\n",
       "170           Q. Promes          5.0\n",
       "221           F. Ribéry          5.0\n",
       "233      Gelson Martins          5.0\n",
       "243     F. Bernardeschi          5.0\n",
       "270             W. Zaha          5.0\n",
       "288              Marlos          5.0\n",
       "370          X. Shaqiri          5.0\n",
       "371           J. Corona          5.0\n",
       "376      S. El Shaarawy          5.0\n",
       "408                Nani          5.0\n",
       "480        V. Aboubakar          5.0\n",
       "524           I. Piatti          5.0\n",
       "545       Santi Cazorla          5.0\n",
       "557         David Neres          5.0\n",
       "559            A. Harit          5.0\n",
       "582            F. Cervi          5.0\n",
       "711         H. Ben Arfa          5.0\n",
       "1004          J. Sancho          5.0\n",
       "1132          L. Acosta          5.0\n",
       "1143    Vinícius Júnior          5.0\n",
       "1170     O. Abdulrahman          5.0\n",
       "1195      C. Villanueva          5.0\n",
       "1818         S. Larsson          5.0\n",
       "1998       M. Fernández          5.0\n",
       "2017         Y. Bolasie          5.0\n",
       "2495        M. Ødegaard          5.0\n",
       "2768              Élton          5.0\n",
       "2878           A. Maxim          5.0\n",
       "3148          R. Kishna          5.0\n",
       "3166         A. McGeady          5.0\n",
       "3232         F. Boulaya          5.0\n",
       "4217          Shikabala          5.0\n",
       "4749          J. Botaka          5.0\n",
       "4838   G. Mackay-Steven          5.0\n",
       "8712            Ilsinho          5.0\n",
       "8943            B. Manu          5.0"
      ]
     },
     "execution_count": 70,
     "metadata": {},
     "output_type": "execute_result"
    }
   ],
   "source": [
    "df[df['Skill Moves'] == 5][['Name','Skill Moves']]"
   ]
  },
  {
   "cell_type": "code",
   "execution_count": 74,
   "id": "fba068e7",
   "metadata": {},
   "outputs": [
    {
     "data": {
      "text/html": [
       "<div>\n",
       "<style scoped>\n",
       "    .dataframe tbody tr th:only-of-type {\n",
       "        vertical-align: middle;\n",
       "    }\n",
       "\n",
       "    .dataframe tbody tr th {\n",
       "        vertical-align: top;\n",
       "    }\n",
       "\n",
       "    .dataframe thead th {\n",
       "        text-align: right;\n",
       "    }\n",
       "</style>\n",
       "<table border=\"1\" class=\"dataframe\">\n",
       "  <thead>\n",
       "    <tr style=\"text-align: right;\">\n",
       "      <th></th>\n",
       "      <th>Name</th>\n",
       "      <th>International Reputation</th>\n",
       "    </tr>\n",
       "  </thead>\n",
       "  <tbody>\n",
       "    <tr>\n",
       "      <th>0</th>\n",
       "      <td>L. Messi</td>\n",
       "      <td>5.0</td>\n",
       "    </tr>\n",
       "    <tr>\n",
       "      <th>22</th>\n",
       "      <td>M. Neuer</td>\n",
       "      <td>5.0</td>\n",
       "    </tr>\n",
       "    <tr>\n",
       "      <th>2</th>\n",
       "      <td>Neymar Jr</td>\n",
       "      <td>5.0</td>\n",
       "    </tr>\n",
       "    <tr>\n",
       "      <th>1</th>\n",
       "      <td>Cristiano Ronaldo</td>\n",
       "      <td>5.0</td>\n",
       "    </tr>\n",
       "    <tr>\n",
       "      <th>7</th>\n",
       "      <td>L. Suárez</td>\n",
       "      <td>5.0</td>\n",
       "    </tr>\n",
       "    <tr>\n",
       "      <th>109</th>\n",
       "      <td>Z. Ibrahimović</td>\n",
       "      <td>5.0</td>\n",
       "    </tr>\n",
       "    <tr>\n",
       "      <th>76</th>\n",
       "      <td>Iniesta</td>\n",
       "      <td>4.0</td>\n",
       "    </tr>\n",
       "    <tr>\n",
       "      <th>85</th>\n",
       "      <td>D. Alaba</td>\n",
       "      <td>4.0</td>\n",
       "    </tr>\n",
       "    <tr>\n",
       "      <th>93</th>\n",
       "      <td>A. Sánchez</td>\n",
       "      <td>4.0</td>\n",
       "    </tr>\n",
       "    <tr>\n",
       "      <th>95</th>\n",
       "      <td>J. Boateng</td>\n",
       "      <td>4.0</td>\n",
       "    </tr>\n",
       "    <tr>\n",
       "      <th>96</th>\n",
       "      <td>A. Vidal</td>\n",
       "      <td>4.0</td>\n",
       "    </tr>\n",
       "    <tr>\n",
       "      <th>100</th>\n",
       "      <td>Diego Costa</td>\n",
       "      <td>4.0</td>\n",
       "    </tr>\n",
       "    <tr>\n",
       "      <th>105</th>\n",
       "      <td>K. Benzema</td>\n",
       "      <td>4.0</td>\n",
       "    </tr>\n",
       "    <tr>\n",
       "      <th>107</th>\n",
       "      <td>V. Kompany</td>\n",
       "      <td>4.0</td>\n",
       "    </tr>\n",
       "    <tr>\n",
       "      <th>108</th>\n",
       "      <td>Pepe</td>\n",
       "      <td>4.0</td>\n",
       "    </tr>\n",
       "    <tr>\n",
       "      <th>138</th>\n",
       "      <td>A. Di María</td>\n",
       "      <td>4.0</td>\n",
       "    </tr>\n",
       "    <tr>\n",
       "      <th>154</th>\n",
       "      <td>A. Robben</td>\n",
       "      <td>4.0</td>\n",
       "    </tr>\n",
       "    <tr>\n",
       "      <th>68</th>\n",
       "      <td>M. Reus</td>\n",
       "      <td>4.0</td>\n",
       "    </tr>\n",
       "    <tr>\n",
       "      <th>206</th>\n",
       "      <td>M. Balotelli</td>\n",
       "      <td>4.0</td>\n",
       "    </tr>\n",
       "    <tr>\n",
       "      <th>209</th>\n",
       "      <td>David Luiz</td>\n",
       "      <td>4.0</td>\n",
       "    </tr>\n",
       "    <tr>\n",
       "      <th>219</th>\n",
       "      <td>Cesc Fàbregas</td>\n",
       "      <td>4.0</td>\n",
       "    </tr>\n",
       "    <tr>\n",
       "      <th>221</th>\n",
       "      <td>F. Ribéry</td>\n",
       "      <td>4.0</td>\n",
       "    </tr>\n",
       "    <tr>\n",
       "      <th>280</th>\n",
       "      <td>M. Götze</td>\n",
       "      <td>4.0</td>\n",
       "    </tr>\n",
       "    <tr>\n",
       "      <th>314</th>\n",
       "      <td>Dani Alves</td>\n",
       "      <td>4.0</td>\n",
       "    </tr>\n",
       "    <tr>\n",
       "      <th>317</th>\n",
       "      <td>P. Čech</td>\n",
       "      <td>4.0</td>\n",
       "    </tr>\n",
       "    <tr>\n",
       "      <th>318</th>\n",
       "      <td>Casillas</td>\n",
       "      <td>4.0</td>\n",
       "    </tr>\n",
       "    <tr>\n",
       "      <th>378</th>\n",
       "      <td>Hulk</td>\n",
       "      <td>4.0</td>\n",
       "    </tr>\n",
       "    <tr>\n",
       "      <th>547</th>\n",
       "      <td>J. Mascherano</td>\n",
       "      <td>4.0</td>\n",
       "    </tr>\n",
       "    <tr>\n",
       "      <th>550</th>\n",
       "      <td>B. Schweinsteiger</td>\n",
       "      <td>4.0</td>\n",
       "    </tr>\n",
       "    <tr>\n",
       "      <th>74</th>\n",
       "      <td>M. Özil</td>\n",
       "      <td>4.0</td>\n",
       "    </tr>\n",
       "    <tr>\n",
       "      <th>53</th>\n",
       "      <td>I. Rakitić</td>\n",
       "      <td>4.0</td>\n",
       "    </tr>\n",
       "    <tr>\n",
       "      <th>66</th>\n",
       "      <td>T. Müller</td>\n",
       "      <td>4.0</td>\n",
       "    </tr>\n",
       "    <tr>\n",
       "      <th>54</th>\n",
       "      <td>Piqué</td>\n",
       "      <td>4.0</td>\n",
       "    </tr>\n",
       "    <tr>\n",
       "      <th>3</th>\n",
       "      <td>De Gea</td>\n",
       "      <td>4.0</td>\n",
       "    </tr>\n",
       "    <tr>\n",
       "      <th>4</th>\n",
       "      <td>K. De Bruyne</td>\n",
       "      <td>4.0</td>\n",
       "    </tr>\n",
       "    <tr>\n",
       "      <th>5</th>\n",
       "      <td>E. Hazard</td>\n",
       "      <td>4.0</td>\n",
       "    </tr>\n",
       "    <tr>\n",
       "      <th>6</th>\n",
       "      <td>L. Modrić</td>\n",
       "      <td>4.0</td>\n",
       "    </tr>\n",
       "    <tr>\n",
       "      <th>8</th>\n",
       "      <td>Sergio Ramos</td>\n",
       "      <td>4.0</td>\n",
       "    </tr>\n",
       "    <tr>\n",
       "      <th>10</th>\n",
       "      <td>R. Lewandowski</td>\n",
       "      <td>4.0</td>\n",
       "    </tr>\n",
       "    <tr>\n",
       "      <th>11</th>\n",
       "      <td>T. Kroos</td>\n",
       "      <td>4.0</td>\n",
       "    </tr>\n",
       "    <tr>\n",
       "      <th>13</th>\n",
       "      <td>David Silva</td>\n",
       "      <td>4.0</td>\n",
       "    </tr>\n",
       "    <tr>\n",
       "      <th>17</th>\n",
       "      <td>A. Griezmann</td>\n",
       "      <td>4.0</td>\n",
       "    </tr>\n",
       "    <tr>\n",
       "      <th>19</th>\n",
       "      <td>T. Courtois</td>\n",
       "      <td>4.0</td>\n",
       "    </tr>\n",
       "    <tr>\n",
       "      <th>20</th>\n",
       "      <td>Sergio Busquets</td>\n",
       "      <td>4.0</td>\n",
       "    </tr>\n",
       "    <tr>\n",
       "      <th>21</th>\n",
       "      <td>E. Cavani</td>\n",
       "      <td>4.0</td>\n",
       "    </tr>\n",
       "    <tr>\n",
       "      <th>23</th>\n",
       "      <td>S. Agüero</td>\n",
       "      <td>4.0</td>\n",
       "    </tr>\n",
       "    <tr>\n",
       "      <th>24</th>\n",
       "      <td>G. Chiellini</td>\n",
       "      <td>4.0</td>\n",
       "    </tr>\n",
       "    <tr>\n",
       "      <th>28</th>\n",
       "      <td>J. Rodríguez</td>\n",
       "      <td>4.0</td>\n",
       "    </tr>\n",
       "    <tr>\n",
       "      <th>34</th>\n",
       "      <td>M. Hummels</td>\n",
       "      <td>4.0</td>\n",
       "    </tr>\n",
       "    <tr>\n",
       "      <th>35</th>\n",
       "      <td>Marcelo</td>\n",
       "      <td>4.0</td>\n",
       "    </tr>\n",
       "    <tr>\n",
       "      <th>36</th>\n",
       "      <td>G. Bale</td>\n",
       "      <td>4.0</td>\n",
       "    </tr>\n",
       "    <tr>\n",
       "      <th>37</th>\n",
       "      <td>H. Lloris</td>\n",
       "      <td>4.0</td>\n",
       "    </tr>\n",
       "    <tr>\n",
       "      <th>38</th>\n",
       "      <td>G. Higuaín</td>\n",
       "      <td>4.0</td>\n",
       "    </tr>\n",
       "    <tr>\n",
       "      <th>39</th>\n",
       "      <td>Thiago Silva</td>\n",
       "      <td>4.0</td>\n",
       "    </tr>\n",
       "    <tr>\n",
       "      <th>41</th>\n",
       "      <td>G. Buffon</td>\n",
       "      <td>4.0</td>\n",
       "    </tr>\n",
       "    <tr>\n",
       "      <th>45</th>\n",
       "      <td>P. Pogba</td>\n",
       "      <td>4.0</td>\n",
       "    </tr>\n",
       "    <tr>\n",
       "      <th>552</th>\n",
       "      <td>W. Rooney</td>\n",
       "      <td>4.0</td>\n",
       "    </tr>\n",
       "  </tbody>\n",
       "</table>\n",
       "</div>"
      ],
      "text/plain": [
       "                  Name  International Reputation\n",
       "0             L. Messi                       5.0\n",
       "22            M. Neuer                       5.0\n",
       "2            Neymar Jr                       5.0\n",
       "1    Cristiano Ronaldo                       5.0\n",
       "7            L. Suárez                       5.0\n",
       "109     Z. Ibrahimović                       5.0\n",
       "76             Iniesta                       4.0\n",
       "85            D. Alaba                       4.0\n",
       "93          A. Sánchez                       4.0\n",
       "95          J. Boateng                       4.0\n",
       "96            A. Vidal                       4.0\n",
       "100        Diego Costa                       4.0\n",
       "105         K. Benzema                       4.0\n",
       "107         V. Kompany                       4.0\n",
       "108               Pepe                       4.0\n",
       "138        A. Di María                       4.0\n",
       "154          A. Robben                       4.0\n",
       "68             M. Reus                       4.0\n",
       "206       M. Balotelli                       4.0\n",
       "209         David Luiz                       4.0\n",
       "219      Cesc Fàbregas                       4.0\n",
       "221          F. Ribéry                       4.0\n",
       "280           M. Götze                       4.0\n",
       "314         Dani Alves                       4.0\n",
       "317            P. Čech                       4.0\n",
       "318           Casillas                       4.0\n",
       "378               Hulk                       4.0\n",
       "547      J. Mascherano                       4.0\n",
       "550  B. Schweinsteiger                       4.0\n",
       "74             M. Özil                       4.0\n",
       "53          I. Rakitić                       4.0\n",
       "66           T. Müller                       4.0\n",
       "54               Piqué                       4.0\n",
       "3               De Gea                       4.0\n",
       "4         K. De Bruyne                       4.0\n",
       "5            E. Hazard                       4.0\n",
       "6            L. Modrić                       4.0\n",
       "8         Sergio Ramos                       4.0\n",
       "10      R. Lewandowski                       4.0\n",
       "11            T. Kroos                       4.0\n",
       "13         David Silva                       4.0\n",
       "17        A. Griezmann                       4.0\n",
       "19         T. Courtois                       4.0\n",
       "20     Sergio Busquets                       4.0\n",
       "21           E. Cavani                       4.0\n",
       "23           S. Agüero                       4.0\n",
       "24        G. Chiellini                       4.0\n",
       "28        J. Rodríguez                       4.0\n",
       "34          M. Hummels                       4.0\n",
       "35             Marcelo                       4.0\n",
       "36             G. Bale                       4.0\n",
       "37           H. Lloris                       4.0\n",
       "38          G. Higuaín                       4.0\n",
       "39        Thiago Silva                       4.0\n",
       "41           G. Buffon                       4.0\n",
       "45            P. Pogba                       4.0\n",
       "552          W. Rooney                       4.0"
      ]
     },
     "execution_count": 74,
     "metadata": {},
     "output_type": "execute_result"
    }
   ],
   "source": [
    "df[(df[\"International Reputation\"] == 5)|(df[\"International Reputation\"] == 4)][['Name','International Reputation']].sort_values(by=['International Reputation'],ascending = False)"
   ]
  },
  {
   "cell_type": "markdown",
   "id": "b94934f0",
   "metadata": {},
   "source": [
    "so from the above analysis c.ronaldo,l.messi,neymar,k mbappe,Z. Ibrahimović,l suarez,m depay will key player to watch"
   ]
  },
  {
   "cell_type": "markdown",
   "id": "60d65a63",
   "metadata": {},
   "source": [
    "# Important players for major clubs"
   ]
  },
  {
   "cell_type": "code",
   "execution_count": 77,
   "id": "1c3a9931",
   "metadata": {},
   "outputs": [],
   "source": [
    "def rank_player(group):\n",
    "    group[\"rank\"] = group['Value'].rank(ascending = False)\n",
    "    return group"
   ]
  },
  {
   "cell_type": "code",
   "execution_count": 80,
   "id": "eafad3f7",
   "metadata": {},
   "outputs": [],
   "source": [
    "player_rank = football.apply(rank_player)"
   ]
  },
  {
   "cell_type": "code",
   "execution_count": 86,
   "id": "9e3b0c27",
   "metadata": {},
   "outputs": [
    {
     "data": {
      "text/html": [
       "<div>\n",
       "<style scoped>\n",
       "    .dataframe tbody tr th:only-of-type {\n",
       "        vertical-align: middle;\n",
       "    }\n",
       "\n",
       "    .dataframe tbody tr th {\n",
       "        vertical-align: top;\n",
       "    }\n",
       "\n",
       "    .dataframe thead th {\n",
       "        text-align: right;\n",
       "    }\n",
       "</style>\n",
       "<table border=\"1\" class=\"dataframe\">\n",
       "  <thead>\n",
       "    <tr style=\"text-align: right;\">\n",
       "      <th></th>\n",
       "      <th>Club</th>\n",
       "      <th>Name</th>\n",
       "      <th>Value</th>\n",
       "      <th>rank</th>\n",
       "    </tr>\n",
       "  </thead>\n",
       "  <tbody>\n",
       "    <tr>\n",
       "      <th>0</th>\n",
       "      <td>FC Barcelona</td>\n",
       "      <td>L. Messi</td>\n",
       "      <td>110500.0</td>\n",
       "      <td>1.0</td>\n",
       "    </tr>\n",
       "    <tr>\n",
       "      <th>1</th>\n",
       "      <td>Juventus</td>\n",
       "      <td>Cristiano Ronaldo</td>\n",
       "      <td>77000.0</td>\n",
       "      <td>2.0</td>\n",
       "    </tr>\n",
       "    <tr>\n",
       "      <th>2</th>\n",
       "      <td>Paris Saint-Germain</td>\n",
       "      <td>Neymar Jr</td>\n",
       "      <td>118500.0</td>\n",
       "      <td>1.0</td>\n",
       "    </tr>\n",
       "    <tr>\n",
       "      <th>3</th>\n",
       "      <td>Manchester United</td>\n",
       "      <td>De Gea</td>\n",
       "      <td>72000.0</td>\n",
       "      <td>1.0</td>\n",
       "    </tr>\n",
       "    <tr>\n",
       "      <th>4</th>\n",
       "      <td>Manchester City</td>\n",
       "      <td>K. De Bruyne</td>\n",
       "      <td>102000.0</td>\n",
       "      <td>1.0</td>\n",
       "    </tr>\n",
       "    <tr>\n",
       "      <th>...</th>\n",
       "      <td>...</td>\n",
       "      <td>...</td>\n",
       "      <td>...</td>\n",
       "      <td>...</td>\n",
       "    </tr>\n",
       "    <tr>\n",
       "      <th>16846</th>\n",
       "      <td>Limerick FC</td>\n",
       "      <td>C. Ellis</td>\n",
       "      <td>150.0</td>\n",
       "      <td>3.0</td>\n",
       "    </tr>\n",
       "    <tr>\n",
       "      <th>16899</th>\n",
       "      <td>Limerick FC</td>\n",
       "      <td>W. Fitzgerald</td>\n",
       "      <td>140.0</td>\n",
       "      <td>4.5</td>\n",
       "    </tr>\n",
       "    <tr>\n",
       "      <th>16941</th>\n",
       "      <td>Bray Wanderers</td>\n",
       "      <td>E. Moran</td>\n",
       "      <td>120.0</td>\n",
       "      <td>4.0</td>\n",
       "    </tr>\n",
       "    <tr>\n",
       "      <th>17108</th>\n",
       "      <td>Bray Wanderers</td>\n",
       "      <td>D. Noone</td>\n",
       "      <td>140.0</td>\n",
       "      <td>1.0</td>\n",
       "    </tr>\n",
       "    <tr>\n",
       "      <th>17156</th>\n",
       "      <td>Derry City</td>\n",
       "      <td>B. Doherty</td>\n",
       "      <td>150.0</td>\n",
       "      <td>5.5</td>\n",
       "    </tr>\n",
       "  </tbody>\n",
       "</table>\n",
       "<p>3343 rows × 4 columns</p>\n",
       "</div>"
      ],
      "text/plain": [
       "                      Club               Name     Value  rank\n",
       "0             FC Barcelona           L. Messi  110500.0   1.0\n",
       "1                 Juventus  Cristiano Ronaldo   77000.0   2.0\n",
       "2      Paris Saint-Germain          Neymar Jr  118500.0   1.0\n",
       "3        Manchester United             De Gea   72000.0   1.0\n",
       "4          Manchester City       K. De Bruyne  102000.0   1.0\n",
       "...                    ...                ...       ...   ...\n",
       "16846          Limerick FC           C. Ellis     150.0   3.0\n",
       "16899          Limerick FC      W. Fitzgerald     140.0   4.5\n",
       "16941       Bray Wanderers           E. Moran     120.0   4.0\n",
       "17108       Bray Wanderers           D. Noone     140.0   1.0\n",
       "17156           Derry City         B. Doherty     150.0   5.5\n",
       "\n",
       "[3343 rows x 4 columns]"
      ]
     },
     "execution_count": 86,
     "metadata": {},
     "output_type": "execute_result"
    }
   ],
   "source": [
    "player_rank[player_rank['rank']<6][['Club','Name','Value','rank']]"
   ]
  },
  {
   "cell_type": "code",
   "execution_count": 90,
   "id": "8e29dde9",
   "metadata": {},
   "outputs": [
    {
     "data": {
      "text/html": [
       "<div>\n",
       "<style scoped>\n",
       "    .dataframe tbody tr th:only-of-type {\n",
       "        vertical-align: middle;\n",
       "    }\n",
       "\n",
       "    .dataframe tbody tr th {\n",
       "        vertical-align: top;\n",
       "    }\n",
       "\n",
       "    .dataframe thead th {\n",
       "        text-align: right;\n",
       "    }\n",
       "</style>\n",
       "<table border=\"1\" class=\"dataframe\">\n",
       "  <thead>\n",
       "    <tr style=\"text-align: right;\">\n",
       "      <th></th>\n",
       "      <th>Club</th>\n",
       "      <th>Name</th>\n",
       "      <th>Value</th>\n",
       "      <th>rank</th>\n",
       "    </tr>\n",
       "  </thead>\n",
       "  <tbody>\n",
       "    <tr>\n",
       "      <th>15</th>\n",
       "      <td>Juventus</td>\n",
       "      <td>P. Dybala</td>\n",
       "      <td>89000.0</td>\n",
       "      <td>1.0</td>\n",
       "    </tr>\n",
       "    <tr>\n",
       "      <th>1</th>\n",
       "      <td>Juventus</td>\n",
       "      <td>Cristiano Ronaldo</td>\n",
       "      <td>77000.0</td>\n",
       "      <td>2.0</td>\n",
       "    </tr>\n",
       "    <tr>\n",
       "      <th>65</th>\n",
       "      <td>Juventus</td>\n",
       "      <td>Douglas Costa</td>\n",
       "      <td>46500.0</td>\n",
       "      <td>3.0</td>\n",
       "    </tr>\n",
       "    <tr>\n",
       "      <th>72</th>\n",
       "      <td>Juventus</td>\n",
       "      <td>M. Pjanić</td>\n",
       "      <td>44000.0</td>\n",
       "      <td>4.0</td>\n",
       "    </tr>\n",
       "    <tr>\n",
       "      <th>64</th>\n",
       "      <td>Juventus</td>\n",
       "      <td>Alex Sandro</td>\n",
       "      <td>36500.0</td>\n",
       "      <td>5.0</td>\n",
       "    </tr>\n",
       "  </tbody>\n",
       "</table>\n",
       "</div>"
      ],
      "text/plain": [
       "        Club               Name    Value  rank\n",
       "15  Juventus          P. Dybala  89000.0   1.0\n",
       "1   Juventus  Cristiano Ronaldo  77000.0   2.0\n",
       "65  Juventus      Douglas Costa  46500.0   3.0\n",
       "72  Juventus          M. Pjanić  44000.0   4.0\n",
       "64  Juventus        Alex Sandro  36500.0   5.0"
      ]
     },
     "execution_count": 90,
     "metadata": {},
     "output_type": "execute_result"
    }
   ],
   "source": [
    "player_rank[player_rank['Club']=='Juventus'][['Club','Name','Value','rank']].sort_values(by=['rank']).head(5)"
   ]
  },
  {
   "cell_type": "code",
   "execution_count": 95,
   "id": "57c24d25",
   "metadata": {},
   "outputs": [
    {
     "data": {
      "text/html": [
       "<div>\n",
       "<style scoped>\n",
       "    .dataframe tbody tr th:only-of-type {\n",
       "        vertical-align: middle;\n",
       "    }\n",
       "\n",
       "    .dataframe tbody tr th {\n",
       "        vertical-align: top;\n",
       "    }\n",
       "\n",
       "    .dataframe thead th {\n",
       "        text-align: right;\n",
       "    }\n",
       "</style>\n",
       "<table border=\"1\" class=\"dataframe\">\n",
       "  <thead>\n",
       "    <tr style=\"text-align: right;\">\n",
       "      <th></th>\n",
       "      <th>Club</th>\n",
       "      <th>Name</th>\n",
       "      <th>Value</th>\n",
       "      <th>rank</th>\n",
       "    </tr>\n",
       "  </thead>\n",
       "  <tbody>\n",
       "    <tr>\n",
       "      <th>0</th>\n",
       "      <td>FC Barcelona</td>\n",
       "      <td>L. Messi</td>\n",
       "      <td>110500.0</td>\n",
       "      <td>1.0</td>\n",
       "    </tr>\n",
       "    <tr>\n",
       "      <th>7</th>\n",
       "      <td>FC Barcelona</td>\n",
       "      <td>L. Suárez</td>\n",
       "      <td>80000.0</td>\n",
       "      <td>2.0</td>\n",
       "    </tr>\n",
       "    <tr>\n",
       "      <th>32</th>\n",
       "      <td>FC Barcelona</td>\n",
       "      <td>Coutinho</td>\n",
       "      <td>69500.0</td>\n",
       "      <td>3.0</td>\n",
       "    </tr>\n",
       "    <tr>\n",
       "      <th>18</th>\n",
       "      <td>FC Barcelona</td>\n",
       "      <td>M. ter Stegen</td>\n",
       "      <td>58000.0</td>\n",
       "      <td>4.0</td>\n",
       "    </tr>\n",
       "    <tr>\n",
       "      <th>42</th>\n",
       "      <td>FC Barcelona</td>\n",
       "      <td>S. Umtiti</td>\n",
       "      <td>57000.0</td>\n",
       "      <td>5.0</td>\n",
       "    </tr>\n",
       "  </tbody>\n",
       "</table>\n",
       "</div>"
      ],
      "text/plain": [
       "            Club           Name     Value  rank\n",
       "0   FC Barcelona       L. Messi  110500.0   1.0\n",
       "7   FC Barcelona      L. Suárez   80000.0   2.0\n",
       "32  FC Barcelona       Coutinho   69500.0   3.0\n",
       "18  FC Barcelona  M. ter Stegen   58000.0   4.0\n",
       "42  FC Barcelona      S. Umtiti   57000.0   5.0"
      ]
     },
     "execution_count": 95,
     "metadata": {},
     "output_type": "execute_result"
    }
   ],
   "source": [
    "player_rank[player_rank['Club']=='FC Barcelona'][['Club','Name','Value','rank']].sort_values(by = ['rank']).head(5)"
   ]
  },
  {
   "cell_type": "code",
   "execution_count": 96,
   "id": "9fa3013b",
   "metadata": {},
   "outputs": [
    {
     "data": {
      "text/html": [
       "<div>\n",
       "<style scoped>\n",
       "    .dataframe tbody tr th:only-of-type {\n",
       "        vertical-align: middle;\n",
       "    }\n",
       "\n",
       "    .dataframe tbody tr th {\n",
       "        vertical-align: top;\n",
       "    }\n",
       "\n",
       "    .dataframe thead th {\n",
       "        text-align: right;\n",
       "    }\n",
       "</style>\n",
       "<table border=\"1\" class=\"dataframe\">\n",
       "  <thead>\n",
       "    <tr style=\"text-align: right;\">\n",
       "      <th></th>\n",
       "      <th>Club</th>\n",
       "      <th>Name</th>\n",
       "      <th>Value</th>\n",
       "      <th>rank</th>\n",
       "    </tr>\n",
       "  </thead>\n",
       "  <tbody>\n",
       "    <tr>\n",
       "      <th>2</th>\n",
       "      <td>Paris Saint-Germain</td>\n",
       "      <td>Neymar Jr</td>\n",
       "      <td>118500.0</td>\n",
       "      <td>1.0</td>\n",
       "    </tr>\n",
       "    <tr>\n",
       "      <th>25</th>\n",
       "      <td>Paris Saint-Germain</td>\n",
       "      <td>K. Mbappé</td>\n",
       "      <td>81000.0</td>\n",
       "      <td>2.0</td>\n",
       "    </tr>\n",
       "    <tr>\n",
       "      <th>21</th>\n",
       "      <td>Paris Saint-Germain</td>\n",
       "      <td>E. Cavani</td>\n",
       "      <td>60000.0</td>\n",
       "      <td>3.0</td>\n",
       "    </tr>\n",
       "    <tr>\n",
       "      <th>63</th>\n",
       "      <td>Paris Saint-Germain</td>\n",
       "      <td>M. Verratti</td>\n",
       "      <td>55000.0</td>\n",
       "      <td>4.0</td>\n",
       "    </tr>\n",
       "    <tr>\n",
       "      <th>119</th>\n",
       "      <td>Paris Saint-Germain</td>\n",
       "      <td>Marquinhos</td>\n",
       "      <td>35500.0</td>\n",
       "      <td>5.0</td>\n",
       "    </tr>\n",
       "  </tbody>\n",
       "</table>\n",
       "</div>"
      ],
      "text/plain": [
       "                    Club         Name     Value  rank\n",
       "2    Paris Saint-Germain    Neymar Jr  118500.0   1.0\n",
       "25   Paris Saint-Germain    K. Mbappé   81000.0   2.0\n",
       "21   Paris Saint-Germain    E. Cavani   60000.0   3.0\n",
       "63   Paris Saint-Germain  M. Verratti   55000.0   4.0\n",
       "119  Paris Saint-Germain   Marquinhos   35500.0   5.0"
      ]
     },
     "execution_count": 96,
     "metadata": {},
     "output_type": "execute_result"
    }
   ],
   "source": [
    "player_rank[player_rank['Club']=='Paris Saint-Germain'][['Club','Name','Value','rank']].sort_values(by = ['rank']).head(5)"
   ]
  },
  {
   "cell_type": "code",
   "execution_count": 97,
   "id": "d0f830bf",
   "metadata": {},
   "outputs": [
    {
     "data": {
      "text/html": [
       "<div>\n",
       "<style scoped>\n",
       "    .dataframe tbody tr th:only-of-type {\n",
       "        vertical-align: middle;\n",
       "    }\n",
       "\n",
       "    .dataframe tbody tr th {\n",
       "        vertical-align: top;\n",
       "    }\n",
       "\n",
       "    .dataframe thead th {\n",
       "        text-align: right;\n",
       "    }\n",
       "</style>\n",
       "<table border=\"1\" class=\"dataframe\">\n",
       "  <thead>\n",
       "    <tr style=\"text-align: right;\">\n",
       "      <th></th>\n",
       "      <th>Club</th>\n",
       "      <th>Name</th>\n",
       "      <th>Value</th>\n",
       "      <th>rank</th>\n",
       "    </tr>\n",
       "  </thead>\n",
       "  <tbody>\n",
       "    <tr>\n",
       "      <th>3</th>\n",
       "      <td>Manchester United</td>\n",
       "      <td>De Gea</td>\n",
       "      <td>72000.0</td>\n",
       "      <td>1.0</td>\n",
       "    </tr>\n",
       "    <tr>\n",
       "      <th>45</th>\n",
       "      <td>Manchester United</td>\n",
       "      <td>P. Pogba</td>\n",
       "      <td>64000.0</td>\n",
       "      <td>2.0</td>\n",
       "    </tr>\n",
       "    <tr>\n",
       "      <th>47</th>\n",
       "      <td>Manchester United</td>\n",
       "      <td>R. Lukaku</td>\n",
       "      <td>62500.0</td>\n",
       "      <td>3.0</td>\n",
       "    </tr>\n",
       "    <tr>\n",
       "      <th>116</th>\n",
       "      <td>Manchester United</td>\n",
       "      <td>A. Martial</td>\n",
       "      <td>42500.0</td>\n",
       "      <td>4.0</td>\n",
       "    </tr>\n",
       "    <tr>\n",
       "      <th>93</th>\n",
       "      <td>Manchester United</td>\n",
       "      <td>A. Sánchez</td>\n",
       "      <td>37500.0</td>\n",
       "      <td>5.0</td>\n",
       "    </tr>\n",
       "  </tbody>\n",
       "</table>\n",
       "</div>"
      ],
      "text/plain": [
       "                  Club        Name    Value  rank\n",
       "3    Manchester United      De Gea  72000.0   1.0\n",
       "45   Manchester United    P. Pogba  64000.0   2.0\n",
       "47   Manchester United   R. Lukaku  62500.0   3.0\n",
       "116  Manchester United  A. Martial  42500.0   4.0\n",
       "93   Manchester United  A. Sánchez  37500.0   5.0"
      ]
     },
     "execution_count": 97,
     "metadata": {},
     "output_type": "execute_result"
    }
   ],
   "source": [
    "player_rank[player_rank['Club']=='Manchester United'][['Club','Name','Value','rank']].sort_values(by = ['rank']).head(5)"
   ]
  },
  {
   "cell_type": "code",
   "execution_count": 98,
   "id": "2fd90bab",
   "metadata": {},
   "outputs": [
    {
     "data": {
      "text/html": [
       "<div>\n",
       "<style scoped>\n",
       "    .dataframe tbody tr th:only-of-type {\n",
       "        vertical-align: middle;\n",
       "    }\n",
       "\n",
       "    .dataframe tbody tr th {\n",
       "        vertical-align: top;\n",
       "    }\n",
       "\n",
       "    .dataframe thead th {\n",
       "        text-align: right;\n",
       "    }\n",
       "</style>\n",
       "<table border=\"1\" class=\"dataframe\">\n",
       "  <thead>\n",
       "    <tr style=\"text-align: right;\">\n",
       "      <th></th>\n",
       "      <th>Club</th>\n",
       "      <th>Name</th>\n",
       "      <th>Value</th>\n",
       "      <th>rank</th>\n",
       "    </tr>\n",
       "  </thead>\n",
       "  <tbody>\n",
       "    <tr>\n",
       "      <th>4</th>\n",
       "      <td>Manchester City</td>\n",
       "      <td>K. De Bruyne</td>\n",
       "      <td>102000.0</td>\n",
       "      <td>1.0</td>\n",
       "    </tr>\n",
       "    <tr>\n",
       "      <th>23</th>\n",
       "      <td>Manchester City</td>\n",
       "      <td>S. Agüero</td>\n",
       "      <td>64500.0</td>\n",
       "      <td>2.0</td>\n",
       "    </tr>\n",
       "    <tr>\n",
       "      <th>55</th>\n",
       "      <td>Manchester City</td>\n",
       "      <td>L. Sané</td>\n",
       "      <td>61000.0</td>\n",
       "      <td>3.0</td>\n",
       "    </tr>\n",
       "    <tr>\n",
       "      <th>13</th>\n",
       "      <td>Manchester City</td>\n",
       "      <td>David Silva</td>\n",
       "      <td>60000.0</td>\n",
       "      <td>4.0</td>\n",
       "    </tr>\n",
       "    <tr>\n",
       "      <th>56</th>\n",
       "      <td>Manchester City</td>\n",
       "      <td>Bernardo Silva</td>\n",
       "      <td>59500.0</td>\n",
       "      <td>5.0</td>\n",
       "    </tr>\n",
       "  </tbody>\n",
       "</table>\n",
       "</div>"
      ],
      "text/plain": [
       "               Club            Name     Value  rank\n",
       "4   Manchester City    K. De Bruyne  102000.0   1.0\n",
       "23  Manchester City       S. Agüero   64500.0   2.0\n",
       "55  Manchester City         L. Sané   61000.0   3.0\n",
       "13  Manchester City     David Silva   60000.0   4.0\n",
       "56  Manchester City  Bernardo Silva   59500.0   5.0"
      ]
     },
     "execution_count": 98,
     "metadata": {},
     "output_type": "execute_result"
    }
   ],
   "source": [
    "player_rank[player_rank['Club']=='Manchester City'][['Club','Name','Value','rank']].sort_values(by = ['rank']).head(5)"
   ]
  },
  {
   "cell_type": "code",
   "execution_count": null,
   "id": "5371b740",
   "metadata": {},
   "outputs": [],
   "source": [
    "player_rank[player_rank['Club']= C Bayern München\" ]'Club','Name','Value','rank']].sort_values(by = ['rank']).head(5)"
   ]
  },
  {
   "cell_type": "code",
   "execution_count": 100,
   "id": "bb50c750",
   "metadata": {},
   "outputs": [
    {
     "data": {
      "text/html": [
       "<div>\n",
       "<style scoped>\n",
       "    .dataframe tbody tr th:only-of-type {\n",
       "        vertical-align: middle;\n",
       "    }\n",
       "\n",
       "    .dataframe tbody tr th {\n",
       "        vertical-align: top;\n",
       "    }\n",
       "\n",
       "    .dataframe thead th {\n",
       "        text-align: right;\n",
       "    }\n",
       "</style>\n",
       "<table border=\"1\" class=\"dataframe\">\n",
       "  <thead>\n",
       "    <tr style=\"text-align: right;\">\n",
       "      <th></th>\n",
       "      <th>Club</th>\n",
       "      <th>Name</th>\n",
       "      <th>Value</th>\n",
       "      <th>rank</th>\n",
       "    </tr>\n",
       "  </thead>\n",
       "  <tbody>\n",
       "    <tr>\n",
       "      <th>10</th>\n",
       "      <td>FC Bayern München</td>\n",
       "      <td>R. Lewandowski</td>\n",
       "      <td>77000.0</td>\n",
       "      <td>1.0</td>\n",
       "    </tr>\n",
       "    <tr>\n",
       "      <th>28</th>\n",
       "      <td>FC Bayern München</td>\n",
       "      <td>J. Rodríguez</td>\n",
       "      <td>69500.0</td>\n",
       "      <td>2.0</td>\n",
       "    </tr>\n",
       "    <tr>\n",
       "      <th>34</th>\n",
       "      <td>FC Bayern München</td>\n",
       "      <td>M. Hummels</td>\n",
       "      <td>46000.0</td>\n",
       "      <td>3.0</td>\n",
       "    </tr>\n",
       "    <tr>\n",
       "      <th>67</th>\n",
       "      <td>FC Bayern München</td>\n",
       "      <td>Thiago</td>\n",
       "      <td>45500.0</td>\n",
       "      <td>4.0</td>\n",
       "    </tr>\n",
       "    <tr>\n",
       "      <th>66</th>\n",
       "      <td>FC Bayern München</td>\n",
       "      <td>T. Müller</td>\n",
       "      <td>45000.0</td>\n",
       "      <td>5.0</td>\n",
       "    </tr>\n",
       "  </tbody>\n",
       "</table>\n",
       "</div>"
      ],
      "text/plain": [
       "                 Club            Name    Value  rank\n",
       "10  FC Bayern München  R. Lewandowski  77000.0   1.0\n",
       "28  FC Bayern München    J. Rodríguez  69500.0   2.0\n",
       "34  FC Bayern München      M. Hummels  46000.0   3.0\n",
       "67  FC Bayern München          Thiago  45500.0   4.0\n",
       "66  FC Bayern München       T. Müller  45000.0   5.0"
      ]
     },
     "execution_count": 100,
     "metadata": {},
     "output_type": "execute_result"
    }
   ],
   "source": [
    "player_rank[player_rank['Club']== 'FC Bayern München' ][['Club','Name','Value','rank']].sort_values(by = ['rank']).head(5)"
   ]
  },
  {
   "cell_type": "code",
   "execution_count": 101,
   "id": "2d416475",
   "metadata": {},
   "outputs": [
    {
     "data": {
      "text/html": [
       "<div>\n",
       "<style scoped>\n",
       "    .dataframe tbody tr th:only-of-type {\n",
       "        vertical-align: middle;\n",
       "    }\n",
       "\n",
       "    .dataframe tbody tr th {\n",
       "        vertical-align: top;\n",
       "    }\n",
       "\n",
       "    .dataframe thead th {\n",
       "        text-align: right;\n",
       "    }\n",
       "</style>\n",
       "<table border=\"1\" class=\"dataframe\">\n",
       "  <thead>\n",
       "    <tr style=\"text-align: right;\">\n",
       "      <th></th>\n",
       "      <th>Club</th>\n",
       "      <th>Name</th>\n",
       "      <th>Value</th>\n",
       "      <th>rank</th>\n",
       "    </tr>\n",
       "  </thead>\n",
       "  <tbody>\n",
       "    <tr>\n",
       "      <th>11</th>\n",
       "      <td>Real Madrid</td>\n",
       "      <td>T. Kroos</td>\n",
       "      <td>76500.0</td>\n",
       "      <td>1.0</td>\n",
       "    </tr>\n",
       "    <tr>\n",
       "      <th>30</th>\n",
       "      <td>Real Madrid</td>\n",
       "      <td>Isco</td>\n",
       "      <td>73500.0</td>\n",
       "      <td>2.0</td>\n",
       "    </tr>\n",
       "    <tr>\n",
       "      <th>6</th>\n",
       "      <td>Real Madrid</td>\n",
       "      <td>L. Modrić</td>\n",
       "      <td>67000.0</td>\n",
       "      <td>3.0</td>\n",
       "    </tr>\n",
       "    <tr>\n",
       "      <th>36</th>\n",
       "      <td>Real Madrid</td>\n",
       "      <td>G. Bale</td>\n",
       "      <td>60000.0</td>\n",
       "      <td>4.0</td>\n",
       "    </tr>\n",
       "    <tr>\n",
       "      <th>27</th>\n",
       "      <td>Real Madrid</td>\n",
       "      <td>Casemiro</td>\n",
       "      <td>59500.0</td>\n",
       "      <td>5.0</td>\n",
       "    </tr>\n",
       "  </tbody>\n",
       "</table>\n",
       "</div>"
      ],
      "text/plain": [
       "           Club       Name    Value  rank\n",
       "11  Real Madrid   T. Kroos  76500.0   1.0\n",
       "30  Real Madrid       Isco  73500.0   2.0\n",
       "6   Real Madrid  L. Modrić  67000.0   3.0\n",
       "36  Real Madrid    G. Bale  60000.0   4.0\n",
       "27  Real Madrid   Casemiro  59500.0   5.0"
      ]
     },
     "execution_count": 101,
     "metadata": {},
     "output_type": "execute_result"
    }
   ],
   "source": [
    "player_rank[player_rank['Club']== 'Real Madrid'][['Club','Name','Value','rank']].sort_values(by = ['rank']).head(5)"
   ]
  },
  {
   "cell_type": "code",
   "execution_count": null,
   "id": "b76f0543",
   "metadata": {},
   "outputs": [],
   "source": []
  }
 ],
 "metadata": {
  "kernelspec": {
   "display_name": "Python 3 (ipykernel)",
   "language": "python",
   "name": "python3"
  },
  "language_info": {
   "codemirror_mode": {
    "name": "ipython",
    "version": 3
   },
   "file_extension": ".py",
   "mimetype": "text/x-python",
   "name": "python",
   "nbconvert_exporter": "python",
   "pygments_lexer": "ipython3",
   "version": "3.9.12"
  }
 },
 "nbformat": 4,
 "nbformat_minor": 5
}
